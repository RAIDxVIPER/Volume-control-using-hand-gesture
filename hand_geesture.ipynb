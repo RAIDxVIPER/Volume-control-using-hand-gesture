{
 "cells": [
  {
   "cell_type": "code",
   "execution_count": 3,
   "metadata": {},
   "outputs": [],
   "source": [
    "import cv2\n",
    "import mediapipe as mp\n",
    "import numpy as np\n",
    "import math\n",
    "from ctypes import cast, POINTER\n",
    "from comtypes import CLSCTX_ALL\n",
    "from pycaw.pycaw import AudioUtilities, IAudioEndpointVolume\n",
    "\n"
   ]
  },
  {
   "cell_type": "code",
   "execution_count": 4,
   "metadata": {},
   "outputs": [],
   "source": [
    "# Initialize MediaPipe Hand detection and drawing modules\n",
    "mp_hands = mp.solutions.hands\n",
    "hands = mp_hands.Hands(min_detection_confidence=0.7, min_tracking_confidence=0.5)\n",
    "mp_draw = mp.solutions.drawing_utils\n"
   ]
  },
  {
   "cell_type": "code",
   "execution_count": 5,
   "metadata": {},
   "outputs": [],
   "source": [
    "# Initialize Pycaw for controlling system volume\n",
    "devices = AudioUtilities.GetSpeakers()\n",
    "interface = devices.Activate(IAudioEndpointVolume._iid_, CLSCTX_ALL, None)\n",
    "volume = cast(interface, POINTER(IAudioEndpointVolume))\n",
    "\n",
    "# Get the current volume range\n",
    "vol_range = volume.GetVolumeRange()\n",
    "min_vol = vol_range[1]  # Minimum volume (usually -96.0)\n",
    "max_vol = vol_range[0]  # Maximum volume (usually 0.0)\n",
    "\n",
    "# Open webcam video capture\n",
    "cap = cv2.VideoCapture(0)\n",
    "\n",
    "# Define the coordinates for the green rectangle (box) where gestures will be detected\n",
    "box_x1, box_y1, box_x2, box_y2 = 100, 100, 400, 400\n",
    "\n",
    "while True:\n",
    "    success, img = cap.read()\n",
    "    \n",
    "    if not success:\n",
    "        break\n",
    "    \n",
    "    # Convert the image from BGR to RGB for MediaPipe processing\n",
    "    img_rgb = cv2.cvtColor(img, cv2.COLOR_BGR2RGB)\n",
    "    results = hands.process(img_rgb)\n",
    "\n",
    "    if results.multi_hand_landmarks:\n",
    "        for hand_landmarks in results.multi_hand_landmarks:\n",
    "            # Get the coordinates of the index finger tip (landmark 8) and thumb tip (landmark 4)\n",
    "            index_finger_tip = hand_landmarks.landmark[8]\n",
    "            thumb_tip = hand_landmarks.landmark[4]\n",
    "\n",
    "            # Convert normalized coordinates to pixel values\n",
    "            h, w, _ = img.shape\n",
    "            x1, y1 = int(index_finger_tip.x * w), int(index_finger_tip.y * h)\n",
    "            x2, y2 = int(thumb_tip.x * w), int(thumb_tip.y * h)\n",
    "\n",
    "            # Check if both the index finger and thumb are inside the green rectangle (box)\n",
    "            if (box_x1 < x1 < box_x2 and box_y1 < y1 < box_y2 and\n",
    "                box_x1 < x2 < box_x2 and box_y1 < y2 < box_y2):\n",
    "                \n",
    "                # Draw landmarks and connections for the detected hand\n",
    "                mp_draw.draw_landmarks(img, hand_landmarks, mp_hands.HAND_CONNECTIONS)\n",
    "                \n",
    "                # Draw circles on the index finger and thumb\n",
    "                cv2.circle(img, (x1, y1), 10, (255, 0, 0), cv2.FILLED)\n",
    "                cv2.circle(img, (x2, y2), 10, (255, 0, 0), cv2.FILLED)\n",
    "\n",
    "                # Calculate the distance between the index finger and thumb\n",
    "                distance = math.hypot(x2 - x1, y2 - y1)\n",
    "\n",
    "                # Map the distance between fingers to the system volume range\n",
    "                vol = np.interp(distance, [20, 200], [min_vol, max_vol])\n",
    "                volume.SetMasterVolumeLevel(vol, None)\n",
    "\n",
    "                # ✅ FIX: Correct volume percentage display\n",
    "                volume_percentage = np.interp(distance, [20, 200], [0, 100])  # Map from distance\n",
    "                cv2.putText(img, f'Volume: {int(volume_percentage)}%', (50, 50),\n",
    "                            cv2.FONT_HERSHEY_SIMPLEX, 1, (255, 0, 0), 2)\n",
    "    \n",
    "    # Draw the green rectangle (box) on the screen\n",
    "    cv2.rectangle(img, (box_x1, box_y1), (box_x2, box_y2), (0, 255, 0), 2)\n",
    "\n",
    "    # Display the result on the screen\n",
    "    cv2.imshow(\"Hand Gesture Volume Control\", img)\n",
    "\n",
    "    # Break the loop if 'q' is pressed\n",
    "    if cv2.waitKey(1) & 0xFF == ord('q'):\n",
    "        break\n",
    "\n",
    "\n"
   ]
  },
  {
   "cell_type": "code",
   "execution_count": null,
   "metadata": {},
   "outputs": [],
   "source": [
    "# Release the webcam and close all OpenCV windows\n",
    "cap.release()\n",
    "cv2.destroyAllWindows()"
   ]
  }
 ],
 "metadata": {
  "kernelspec": {
   "display_name": "Python 3",
   "language": "python",
   "name": "python3"
  },
  "language_info": {
   "codemirror_mode": {
    "name": "ipython",
    "version": 3
   },
   "file_extension": ".py",
   "mimetype": "text/x-python",
   "name": "python",
   "nbconvert_exporter": "python",
   "pygments_lexer": "ipython3",
   "version": "3.12.4"
  }
 },
 "nbformat": 4,
 "nbformat_minor": 2
}
